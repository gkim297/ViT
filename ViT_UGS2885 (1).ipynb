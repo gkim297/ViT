{
  "nbformat": 4,
  "nbformat_minor": 0,
  "metadata": {
    "colab": {
      "provenance": [],
      "collapsed_sections": []
    },
    "kernelspec": {
      "name": "python3",
      "display_name": "Python 3"
    },
    "language_info": {
      "name": "python"
    }
  },
  "cells": [
    {
      "cell_type": "markdown",
      "source": [
        "# Visual Transformer (ViT) in Satellite Imageries. "
      ],
      "metadata": {
        "id": "CDVD1gDAu-HR"
      }
    },
    {
      "cell_type": "code",
      "execution_count": 1,
      "metadata": {
        "id": "cFSiezA-gTx_"
      },
      "outputs": [],
      "source": [
        "import torch\n",
        "import torch.nn.functional as F\n",
        "import matplotlib.pyplot as plt"
      ]
    },
    {
      "cell_type": "code",
      "source": [
        "!pip install einops"
      ],
      "metadata": {
        "colab": {
          "base_uri": "https://localhost:8080/"
        },
        "id": "cBAlLt2vgdxU",
        "outputId": "f84d101d-7234-41a9-e553-bd38c43c23bb"
      },
      "execution_count": 2,
      "outputs": [
        {
          "output_type": "stream",
          "name": "stdout",
          "text": [
            "Looking in indexes: https://pypi.org/simple, https://us-python.pkg.dev/colab-wheels/public/simple/\n",
            "Collecting einops\n",
            "  Downloading einops-0.5.0-py3-none-any.whl (36 kB)\n",
            "Installing collected packages: einops\n",
            "Successfully installed einops-0.5.0\n"
          ]
        }
      ]
    },
    {
      "cell_type": "code",
      "source": [
        "from torch import nn\n",
        "from torch import Tensor\n",
        "from PIL import Image\n",
        "from torchvision.transforms import Compose, Resize, ToTensor\n",
        "from einops import rearrange, reduce, repeat\n",
        "from einops.layers.torch import Rearrange, Reduce\n",
        "from torchsummary import summary"
      ],
      "metadata": {
        "id": "SWSlECVCgYu6"
      },
      "execution_count": 3,
      "outputs": []
    },
    {
      "cell_type": "code",
      "source": [
        "def upload_files():\n",
        "  from google.colab import files\n",
        "  uploaded = files.upload()\n",
        "  for k, v in uploaded.items():\n",
        "    open(k, 'wb').write(v)\n",
        "  return list(uploaded.keys())"
      ],
      "metadata": {
        "id": "0C-LaDqMhI9N"
      },
      "execution_count": 6,
      "outputs": []
    },
    {
      "cell_type": "code",
      "source": [
        "img = upload_files()"
      ],
      "metadata": {
        "colab": {
          "base_uri": "https://localhost:8080/",
          "height": 73
        },
        "id": "MET1VmB6l6-6",
        "outputId": "848b4299-2217-40bd-c0b5-8a7692f8da7a"
      },
      "execution_count": 9,
      "outputs": [
        {
          "output_type": "display_data",
          "data": {
            "text/plain": [
              "<IPython.core.display.HTML object>"
            ],
            "text/html": [
              "\n",
              "     <input type=\"file\" id=\"files-ba6368a1-4a9c-438b-817d-ad5b238a8859\" name=\"files[]\" multiple disabled\n",
              "        style=\"border:none\" />\n",
              "     <output id=\"result-ba6368a1-4a9c-438b-817d-ad5b238a8859\">\n",
              "      Upload widget is only available when the cell has been executed in the\n",
              "      current browser session. Please rerun this cell to enable.\n",
              "      </output>\n",
              "      <script>// Copyright 2017 Google LLC\n",
              "//\n",
              "// Licensed under the Apache License, Version 2.0 (the \"License\");\n",
              "// you may not use this file except in compliance with the License.\n",
              "// You may obtain a copy of the License at\n",
              "//\n",
              "//      http://www.apache.org/licenses/LICENSE-2.0\n",
              "//\n",
              "// Unless required by applicable law or agreed to in writing, software\n",
              "// distributed under the License is distributed on an \"AS IS\" BASIS,\n",
              "// WITHOUT WARRANTIES OR CONDITIONS OF ANY KIND, either express or implied.\n",
              "// See the License for the specific language governing permissions and\n",
              "// limitations under the License.\n",
              "\n",
              "/**\n",
              " * @fileoverview Helpers for google.colab Python module.\n",
              " */\n",
              "(function(scope) {\n",
              "function span(text, styleAttributes = {}) {\n",
              "  const element = document.createElement('span');\n",
              "  element.textContent = text;\n",
              "  for (const key of Object.keys(styleAttributes)) {\n",
              "    element.style[key] = styleAttributes[key];\n",
              "  }\n",
              "  return element;\n",
              "}\n",
              "\n",
              "// Max number of bytes which will be uploaded at a time.\n",
              "const MAX_PAYLOAD_SIZE = 100 * 1024;\n",
              "\n",
              "function _uploadFiles(inputId, outputId) {\n",
              "  const steps = uploadFilesStep(inputId, outputId);\n",
              "  const outputElement = document.getElementById(outputId);\n",
              "  // Cache steps on the outputElement to make it available for the next call\n",
              "  // to uploadFilesContinue from Python.\n",
              "  outputElement.steps = steps;\n",
              "\n",
              "  return _uploadFilesContinue(outputId);\n",
              "}\n",
              "\n",
              "// This is roughly an async generator (not supported in the browser yet),\n",
              "// where there are multiple asynchronous steps and the Python side is going\n",
              "// to poll for completion of each step.\n",
              "// This uses a Promise to block the python side on completion of each step,\n",
              "// then passes the result of the previous step as the input to the next step.\n",
              "function _uploadFilesContinue(outputId) {\n",
              "  const outputElement = document.getElementById(outputId);\n",
              "  const steps = outputElement.steps;\n",
              "\n",
              "  const next = steps.next(outputElement.lastPromiseValue);\n",
              "  return Promise.resolve(next.value.promise).then((value) => {\n",
              "    // Cache the last promise value to make it available to the next\n",
              "    // step of the generator.\n",
              "    outputElement.lastPromiseValue = value;\n",
              "    return next.value.response;\n",
              "  });\n",
              "}\n",
              "\n",
              "/**\n",
              " * Generator function which is called between each async step of the upload\n",
              " * process.\n",
              " * @param {string} inputId Element ID of the input file picker element.\n",
              " * @param {string} outputId Element ID of the output display.\n",
              " * @return {!Iterable<!Object>} Iterable of next steps.\n",
              " */\n",
              "function* uploadFilesStep(inputId, outputId) {\n",
              "  const inputElement = document.getElementById(inputId);\n",
              "  inputElement.disabled = false;\n",
              "\n",
              "  const outputElement = document.getElementById(outputId);\n",
              "  outputElement.innerHTML = '';\n",
              "\n",
              "  const pickedPromise = new Promise((resolve) => {\n",
              "    inputElement.addEventListener('change', (e) => {\n",
              "      resolve(e.target.files);\n",
              "    });\n",
              "  });\n",
              "\n",
              "  const cancel = document.createElement('button');\n",
              "  inputElement.parentElement.appendChild(cancel);\n",
              "  cancel.textContent = 'Cancel upload';\n",
              "  const cancelPromise = new Promise((resolve) => {\n",
              "    cancel.onclick = () => {\n",
              "      resolve(null);\n",
              "    };\n",
              "  });\n",
              "\n",
              "  // Wait for the user to pick the files.\n",
              "  const files = yield {\n",
              "    promise: Promise.race([pickedPromise, cancelPromise]),\n",
              "    response: {\n",
              "      action: 'starting',\n",
              "    }\n",
              "  };\n",
              "\n",
              "  cancel.remove();\n",
              "\n",
              "  // Disable the input element since further picks are not allowed.\n",
              "  inputElement.disabled = true;\n",
              "\n",
              "  if (!files) {\n",
              "    return {\n",
              "      response: {\n",
              "        action: 'complete',\n",
              "      }\n",
              "    };\n",
              "  }\n",
              "\n",
              "  for (const file of files) {\n",
              "    const li = document.createElement('li');\n",
              "    li.append(span(file.name, {fontWeight: 'bold'}));\n",
              "    li.append(span(\n",
              "        `(${file.type || 'n/a'}) - ${file.size} bytes, ` +\n",
              "        `last modified: ${\n",
              "            file.lastModifiedDate ? file.lastModifiedDate.toLocaleDateString() :\n",
              "                                    'n/a'} - `));\n",
              "    const percent = span('0% done');\n",
              "    li.appendChild(percent);\n",
              "\n",
              "    outputElement.appendChild(li);\n",
              "\n",
              "    const fileDataPromise = new Promise((resolve) => {\n",
              "      const reader = new FileReader();\n",
              "      reader.onload = (e) => {\n",
              "        resolve(e.target.result);\n",
              "      };\n",
              "      reader.readAsArrayBuffer(file);\n",
              "    });\n",
              "    // Wait for the data to be ready.\n",
              "    let fileData = yield {\n",
              "      promise: fileDataPromise,\n",
              "      response: {\n",
              "        action: 'continue',\n",
              "      }\n",
              "    };\n",
              "\n",
              "    // Use a chunked sending to avoid message size limits. See b/62115660.\n",
              "    let position = 0;\n",
              "    do {\n",
              "      const length = Math.min(fileData.byteLength - position, MAX_PAYLOAD_SIZE);\n",
              "      const chunk = new Uint8Array(fileData, position, length);\n",
              "      position += length;\n",
              "\n",
              "      const base64 = btoa(String.fromCharCode.apply(null, chunk));\n",
              "      yield {\n",
              "        response: {\n",
              "          action: 'append',\n",
              "          file: file.name,\n",
              "          data: base64,\n",
              "        },\n",
              "      };\n",
              "\n",
              "      let percentDone = fileData.byteLength === 0 ?\n",
              "          100 :\n",
              "          Math.round((position / fileData.byteLength) * 100);\n",
              "      percent.textContent = `${percentDone}% done`;\n",
              "\n",
              "    } while (position < fileData.byteLength);\n",
              "  }\n",
              "\n",
              "  // All done.\n",
              "  yield {\n",
              "    response: {\n",
              "      action: 'complete',\n",
              "    }\n",
              "  };\n",
              "}\n",
              "\n",
              "scope.google = scope.google || {};\n",
              "scope.google.colab = scope.google.colab || {};\n",
              "scope.google.colab._files = {\n",
              "  _uploadFiles,\n",
              "  _uploadFilesContinue,\n",
              "};\n",
              "})(self);\n",
              "</script> "
            ]
          },
          "metadata": {}
        },
        {
          "output_type": "stream",
          "name": "stdout",
          "text": [
            "Saving UGC2885.jpg to UGC2885.jpg\n"
          ]
        }
      ]
    },
    {
      "cell_type": "code",
      "source": [
        "img = Image.open('./UGC2885.jpg')"
      ],
      "metadata": {
        "id": "vhT_054Th8NS"
      },
      "execution_count": 10,
      "outputs": []
    },
    {
      "cell_type": "code",
      "source": [
        "fig = plt.figure()\n",
        "plt.imshow(img)"
      ],
      "metadata": {
        "colab": {
          "base_uri": "https://localhost:8080/",
          "height": 286
        },
        "id": "vYR_a8baizeH",
        "outputId": "b07410cb-1b6b-46be-f478-b4b6091b94e8"
      },
      "execution_count": 11,
      "outputs": [
        {
          "output_type": "execute_result",
          "data": {
            "text/plain": [
              "<matplotlib.image.AxesImage at 0x7fbea0706390>"
            ]
          },
          "metadata": {},
          "execution_count": 11
        },
        {
          "output_type": "display_data",
          "data": {
            "text/plain": [
              "<Figure size 432x288 with 1 Axes>"
            ],
            "image/png": "[encoded data removed]"
          },
          "metadata": {
            "needs_background": "light"
          }
        }
      ]
    },
    {
      "cell_type": "code",
      "source": [
        "#preprocess (resize the image)\n",
        "transform = Compose([Resize((256, 256)), ToTensor()])"
      ],
      "metadata": {
        "id": "LYs7XTKDi6HH"
      },
      "execution_count": 12,
      "outputs": []
    },
    {
      "cell_type": "code",
      "source": [
        "x = transform(img)\n",
        "#add batch dimension\n",
        "x = x.unsqueeze(0)\n",
        "x.shape"
      ],
      "metadata": {
        "colab": {
          "base_uri": "https://localhost:8080/"
        },
        "id": "iohes7M9i8eR",
        "outputId": "ddb9c3a1-0cd4-439d-fa06-aae424e58607"
      },
      "execution_count": 13,
      "outputs": [
        {
          "output_type": "execute_result",
          "data": {
            "text/plain": [
              "torch.Size([1, 1, 256, 256])"
            ]
          },
          "metadata": {},
          "execution_count": 13
        }
      ]
    },
    {
      "cell_type": "code",
      "source": [
        "patch_size = 16"
      ],
      "metadata": {
        "id": "eOaRZlY9jA5h"
      },
      "execution_count": 14,
      "outputs": []
    },
    {
      "cell_type": "code",
      "source": [
        "#break down multiple patches & flatten\n",
        "pathes = rearrange(x, 'b c (h s1) (w s2) -> b (h w) (s1 s2 c)', s1=patch_size, s2=patch_size)"
      ],
      "metadata": {
        "id": "SaGwu2G3jDFV"
      },
      "execution_count": 15,
      "outputs": []
    },
    {
      "cell_type": "code",
      "source": [
        "print(pathes)"
      ],
      "metadata": {
        "colab": {
          "base_uri": "https://localhost:8080/"
        },
        "id": "Pu5GeFIbjZ74",
        "outputId": "5f018ace-1cda-4af9-824b-6c6fbcdaa8af"
      },
      "execution_count": 16,
      "outputs": [
        {
          "output_type": "stream",
          "name": "stdout",
          "text": [
            "tensor([[[0.4863, 0.2745, 0.2941,  ..., 0.2392, 0.2392, 0.2392],\n",
            "         [0.8902, 0.9176, 0.9373,  ..., 0.2392, 0.2392, 0.2392],\n",
            "         [1.0000, 1.0000, 1.0000,  ..., 0.2510, 0.2471, 0.2431],\n",
            "         ...,\n",
            "         [0.2431, 0.2471, 0.2471,  ..., 1.0000, 1.0000, 1.0000],\n",
            "         [0.2471, 0.2392, 0.2431,  ..., 0.9333, 0.9098, 0.8863],\n",
            "         [0.2392, 0.2392, 0.2392,  ..., 0.2980, 0.2784, 0.3569]]])\n"
          ]
        }
      ]
    },
    {
      "cell_type": "markdown",
      "source": [
        "# Patch Embedding\n",
        "\n",
        "Breakdown image into patches, by the formulation as following\n",
        "\n",
        "\n",
        "\n",
        "*   3D Image (X)  ∈  resolution  R HxWxC \n",
        "*   Reshape 3D image to flattened 2D patches: Patch Image ( Xp)  ∈  R Nx(P^2 . C\n",
        "*   Sequence length N = H . W / P2  and (P, P); N is resolution of each image patch\n",
        "*   Each patch is D-dimension vector with trainable linear projection. \n",
        "\n",
        "\n",
        "\n"
      ],
      "metadata": {
        "id": "GRqDT63Frwsn"
      }
    },
    {
      "cell_type": "code",
      "source": [
        "class PatchEmbedding(nn.Module):\n",
        "  #apply convoluitional layer --> flatten the resulting image. \n",
        "    def __init__(self, in_channels: int = 1, patch_size: int = 16, emb_size: int = 768):\n",
        "        self.patch_size = patch_size\n",
        "        super().__init__()\n",
        "        self.projection = nn.Sequential(\n",
        "            # using a conv layer instead of a linear one -> performance gains\n",
        "            nn.Conv2d(in_channels, emb_size, kernel_size=patch_size, stride=patch_size),\n",
        "            Rearrange('b e (h) (w) -> b (h w) e'),\n",
        "        )\n",
        "                \n",
        "    def forward(self, x: Tensor) -> Tensor:\n",
        "        x = self.projection(x)\n",
        "        return x"
      ],
      "metadata": {
        "id": "TwZkq3B3kkpk"
      },
      "execution_count": 17,
      "outputs": []
    },
    {
      "cell_type": "code",
      "source": [
        "PatchEmbedding()(x).shape"
      ],
      "metadata": {
        "colab": {
          "base_uri": "https://localhost:8080/"
        },
        "id": "zJK82pgbkleq",
        "outputId": "712f1eea-17e6-475c-dcb0-70bc72586235"
      },
      "execution_count": 18,
      "outputs": [
        {
          "output_type": "execute_result",
          "data": {
            "text/plain": [
              "torch.Size([1, 256, 768])"
            ]
          },
          "metadata": {},
          "execution_count": 18
        }
      ]
    },
    {
      "cell_type": "markdown",
      "source": [
        "# CLS Token\n",
        "\n",
        "Prepend a learnable embedding to sequence of embedded patches (z00 = xclass ). Formulation is as follows. \n",
        "\n",
        "\n",
        "\n",
        "*   z0 = [xclass; x1pE; x2pE; · · · ; xNp E] + Epos,    E ∈ R(P^2C)×D, Epos ∈ R(N+1)×D\n",
        "*   Xclass is a class label and XNp is patch images N  ∈ 1 to n\n",
        "\n",
        "We always need a Class label at 0th position to use the transformer encoder to pre-train our data. When passing the patch img --> need to prepend 1 classification token as the first patch. \n",
        "\n",
        "\n",
        "\n"
      ],
      "metadata": {
        "id": "ChwRfNpxsm4q"
      }
    },
    {
      "cell_type": "code",
      "source": [
        "class PatchEmbedding(nn.Module):\n",
        "    def __init__(self, in_channels: int = 1, patch_size: int = 16, emb_size: int = 768):\n",
        "        self.patch_size = patch_size\n",
        "        super().__init__()\n",
        "        self.proj = nn.Sequential(\n",
        "            # using a conv layer instead of a linear one -> performance gains\n",
        "            nn.Conv2d(in_channels, emb_size, kernel_size=patch_size, stride=patch_size),\n",
        "            Rearrange('b e (h) (w) -> b (h w) e'),\n",
        "        )\n",
        "        \n",
        "        self.cls_token = nn.Parameter(torch.randn(1,1, emb_size))\n",
        "        \n",
        "    def forward(self, x: Tensor) -> Tensor:\n",
        "        b, _, _, _ = x.shape\n",
        "        x = self.proj(x)\n",
        "        cls_tokens = repeat(self.cls_token, '() n e -> b n e', b=b)\n",
        "        # prepend the cls token to the input\n",
        "        x = torch.cat([cls_tokens, x], dim=1)\n",
        "        return x"
      ],
      "metadata": {
        "id": "VxdhfDmEkqjz"
      },
      "execution_count": 19,
      "outputs": []
    },
    {
      "cell_type": "code",
      "source": [
        "PatchEmbedding()(x).shape"
      ],
      "metadata": {
        "colab": {
          "base_uri": "https://localhost:8080/"
        },
        "id": "YVp8S94XkszY",
        "outputId": "262750a0-38fd-473d-a787-f731c33982a0"
      },
      "execution_count": 20,
      "outputs": [
        {
          "output_type": "execute_result",
          "data": {
            "text/plain": [
              "torch.Size([1, 257, 768])"
            ]
          },
          "metadata": {},
          "execution_count": 20
        }
      ]
    },
    {
      "cell_type": "markdown",
      "source": [
        "# Position Embedding\n",
        "\n",
        "We pass spatial information about the original position of patches. Here, we let our model learn it by itself. Position embedding = a tensor of shape(N_PATCHES + 1 (token), EMBED_SIZE) that is added to projected patches = position of a feature. \n",
        "\n",
        "![image.png](data:image/png;base64,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)\n",
        "\n"
      ],
      "metadata": {
        "id": "VRpgDe2Yt1vL"
      }
    },
    {
      "cell_type": "code",
      "source": [
        "class PatchEmbedding(nn.Module):\n",
        "    def __init__(self, in_channels: int = 1, patch_size: int = 16, emb_size: int = 768, img_size: int = 256):\n",
        "        self.patch_size = patch_size\n",
        "        super().__init__()\n",
        "        self.projection = nn.Sequential(\n",
        "            # using a conv layer instead of a linear one -> performance gains\n",
        "            nn.Conv2d(in_channels, emb_size, kernel_size=patch_size, stride=patch_size),\n",
        "            Rearrange('b e (h) (w) -> b (h w) e'),\n",
        "        )\n",
        "        self.cls_token = nn.Parameter(torch.randn(1,1, emb_size))\n",
        "        #add position embeddings\n",
        "        self.positions = nn.Parameter(torch.randn((img_size // patch_size) **2 + 1, emb_size))\n",
        "\n",
        "        \n",
        "    def forward(self, x: Tensor) -> Tensor:\n",
        "      #sum positions to the patches. \n",
        "        b, _, _, _ = x.shape\n",
        "        x = self.projection(x)\n",
        "        cls_tokens = repeat(self.cls_token, '() n e -> b n e', b=b)\n",
        "        # prepend the cls token to the input\n",
        "        x = torch.cat([cls_tokens, x], dim=1)\n",
        "        # add position embedding\n",
        "        x += self.positions\n",
        "        return x"
      ],
      "metadata": {
        "id": "fzypjxoJkx2f"
      },
      "execution_count": 21,
      "outputs": []
    },
    {
      "cell_type": "code",
      "source": [
        "PatchEmbedding()(x).shape"
      ],
      "metadata": {
        "colab": {
          "base_uri": "https://localhost:8080/"
        },
        "id": "Cpv3QSjLk4vv",
        "outputId": "5950f208-f8fb-4ae3-b9b8-5fa66f57ff78"
      },
      "execution_count": 22,
      "outputs": [
        {
          "output_type": "execute_result",
          "data": {
            "text/plain": [
              "torch.Size([1, 257, 768])"
            ]
          },
          "metadata": {},
          "execution_count": 22
        }
      ]
    },
    {
      "cell_type": "markdown",
      "source": [
        "# Transformer Modelling\n",
        "\n",
        "\n",
        "\n",
        "1.   Multi-Head Attention\n",
        "2.   List item\n",
        "\n"
      ],
      "metadata": {
        "id": "gHSl5MchutVt"
      }
    },
    {
      "cell_type": "markdown",
      "source": [
        "# Attention\n",
        "\n",
        "Inputs: queries, keys, values --> compute attention matrix (queries & values --> attend to values). \n",
        "\n",
        "Multi-Head: computation split across n-heads with smaller input size. "
      ],
      "metadata": {
        "id": "tSW7mEnIvfsW"
      }
    },
    {
      "cell_type": "code",
      "source": [
        "class MultiHeadAttention(nn.Module):\n",
        "    def __init__(self, emb_size: int = 512, num_heads: int = 8, dropout: float = 0):\n",
        "        super().__init__()\n",
        "        self.emb_size = emb_size\n",
        "        self.num_heads = num_heads\n",
        "        self.keys = nn.Linear(emb_size, emb_size)\n",
        "        self.queries = nn.Linear(emb_size, emb_size)\n",
        "        self.values = nn.Linear(emb_size, emb_size)\n",
        "        self.att_drop = nn.Dropout(dropout)\n",
        "        self.projection = nn.Linear(emb_size, emb_size)\n",
        "        \n",
        "    def forward(self, x : Tensor, mask: Tensor = None) -> Tensor:\n",
        "        # split keys, queries and values in num_heads\n",
        "        queries = rearrange(self.queries(x), \"b n (h d) -> b h n d\", h=self.num_heads)\n",
        "        keys = rearrange(self.keys(x), \"b n (h d) -> b h n d\", h=self.num_heads)\n",
        "        values  = rearrange(self.values(x), \"b n (h d) -> b h n d\", h=self.num_heads)\n",
        "        # sum up over the last axis\n",
        "        energy = torch.einsum('bhqd, bhkd -> bhqk', queries, keys) # batch, num_heads, query_len, key_len\n",
        "        if mask is not None:\n",
        "            fill_value = torch.finfo(torch.float32).min\n",
        "            energy.mask_fill(~mask, fill_value)\n",
        "            \n",
        "        scaling = self.emb_size ** (1/2)\n",
        "        att = F.softmax(energy, dim=-1) / scaling\n",
        "        att = self.att_drop(att)\n",
        "        # sum up over the third axis\n",
        "        out = torch.einsum('bhal, bhlv -> bhav ', att, values)\n",
        "        out = rearrange(out, \"b h n d -> b n (h d)\")\n",
        "        out = self.projection(out)\n",
        "        return out"
      ],
      "metadata": {
        "id": "sac00cOPk6YU"
      },
      "execution_count": 23,
      "outputs": []
    },
    {
      "cell_type": "code",
      "source": [
        "class MultiHeadAttention(nn.Module):\n",
        "    def __init__(self, emb_size: int = 768, num_heads: int = 8, dropout: float = 0):\n",
        "        super().__init__()\n",
        "        self.emb_size = emb_size\n",
        "        self.num_heads = num_heads\n",
        "        # fuse the queries, keys and values in one matrix\n",
        "        self.qkv = nn.Linear(emb_size, emb_size * 3)\n",
        "        self.att_drop = nn.Dropout(dropout)\n",
        "        self.projection = nn.Linear(emb_size, emb_size)\n",
        "        \n",
        "    def forward(self, x : Tensor, mask: Tensor = None) -> Tensor:\n",
        "        # split keys, queries and values in num_heads\n",
        "        qkv = rearrange(self.qkv(x), \"b n (h d qkv) -> (qkv) b h n d\", h=self.num_heads, qkv=3)\n",
        "        queries, keys, values = qkv[0], qkv[1], qkv[2]\n",
        "        # sum up over the last axis\n",
        "        energy = torch.einsum('bhqd, bhkd -> bhqk', queries, keys) # batch, num_heads, query_len, key_len\n",
        "        if mask is not None:\n",
        "            fill_value = torch.finfo(torch.float32).min\n",
        "            energy.mask_fill(~mask, fill_value)\n",
        "            \n",
        "        scaling = self.emb_size ** (1/2)\n",
        "        att = F.softmax(energy, dim=-1) / scaling\n",
        "        att = self.att_drop(att)\n",
        "        # sum up over the third axis\n",
        "        out = torch.einsum('bhal, bhlv -> bhav ', att, values)\n",
        "        out = rearrange(out, \"b h n d -> b n (h d)\")\n",
        "        out = self.projection(out)\n",
        "        return out\n",
        "    \n",
        "patches_embedded = PatchEmbedding()(x)\n",
        "MultiHeadAttention()(patches_embedded).shape"
      ],
      "metadata": {
        "colab": {
          "base_uri": "https://localhost:8080/"
        },
        "id": "BeFiBwQslGWG",
        "outputId": "3191248f-fcd9-4523-b080-913d6b86b9c1"
      },
      "execution_count": 24,
      "outputs": [
        {
          "output_type": "execute_result",
          "data": {
            "text/plain": [
              "torch.Size([1, 257, 768])"
            ]
          },
          "metadata": {},
          "execution_count": 24
        }
      ]
    },
    {
      "cell_type": "code",
      "source": [
        "class ResidualAdd(nn.Module):\n",
        "    def __init__(self, fn):\n",
        "        super().__init__()\n",
        "        self.fn = fn\n",
        "        \n",
        "    def forward(self, x, **kwargs):\n",
        "        res = x\n",
        "        x = self.fn(x, **kwargs)\n",
        "        x += res\n",
        "        return x"
      ],
      "metadata": {
        "id": "qOsNlLanlOUq"
      },
      "execution_count": 25,
      "outputs": []
    },
    {
      "cell_type": "code",
      "source": [
        "class FeedForwardBlock(nn.Sequential):\n",
        "    def __init__(self, emb_size: int, expansion: int = 4, drop_p: float = 0.):\n",
        "        super().__init__(\n",
        "            nn.Linear(emb_size, expansion * emb_size),\n",
        "            nn.GELU(),\n",
        "            nn.Dropout(drop_p),\n",
        "            nn.Linear(expansion * emb_size, emb_size),\n",
        "        )"
      ],
      "metadata": {
        "id": "V5NrLM82lQLZ"
      },
      "execution_count": 26,
      "outputs": []
    },
    {
      "cell_type": "code",
      "source": [
        "class TransformerEncoderBlock(nn.Sequential):\n",
        "    def __init__(self,\n",
        "                 emb_size: int = 768,\n",
        "                 drop_p: float = 0.,\n",
        "                 forward_expansion: int = 4,\n",
        "                 forward_drop_p: float = 0.,\n",
        "                 ** kwargs):\n",
        "        super().__init__(\n",
        "            ResidualAdd(nn.Sequential(\n",
        "                nn.LayerNorm(emb_size),\n",
        "                MultiHeadAttention(emb_size, **kwargs),\n",
        "                nn.Dropout(drop_p)\n",
        "            )),\n",
        "            ResidualAdd(nn.Sequential(\n",
        "                nn.LayerNorm(emb_size),\n",
        "                FeedForwardBlock(\n",
        "                    emb_size, expansion=forward_expansion, drop_p=forward_drop_p),\n",
        "                nn.Dropout(drop_p)\n",
        "            )\n",
        "            ))"
      ],
      "metadata": {
        "id": "yHoEJTtDlTWz"
      },
      "execution_count": 27,
      "outputs": []
    },
    {
      "cell_type": "code",
      "source": [
        "patches_embedded = PatchEmbedding()(x)\n",
        "TransformerEncoderBlock()(patches_embedded).shape"
      ],
      "metadata": {
        "colab": {
          "base_uri": "https://localhost:8080/"
        },
        "id": "OFhGnLXrlUIg",
        "outputId": "2cbcba15-0763-493e-b317-ce5c187f9712"
      },
      "execution_count": 28,
      "outputs": [
        {
          "output_type": "execute_result",
          "data": {
            "text/plain": [
              "torch.Size([1, 257, 768])"
            ]
          },
          "metadata": {},
          "execution_count": 28
        }
      ]
    },
    {
      "cell_type": "code",
      "source": [
        "class TransformerEncoder(nn.Sequential):\n",
        "    def __init__(self, depth: int = 12, **kwargs):\n",
        "        super().__init__(*[TransformerEncoderBlock(**kwargs) for _ in range(depth)])\n",
        "                "
      ],
      "metadata": {
        "id": "83bqN_5xlV1J"
      },
      "execution_count": 29,
      "outputs": []
    },
    {
      "cell_type": "code",
      "source": [
        "class ClassificationHead(nn.Sequential):\n",
        "    def __init__(self, emb_size: int = 768, n_classes: int = 1000):\n",
        "        super().__init__(\n",
        "            Reduce('b n e -> b e', reduction='mean'),\n",
        "            nn.LayerNorm(emb_size), \n",
        "            nn.Linear(emb_size, n_classes))"
      ],
      "metadata": {
        "id": "5IXQDetIlX_J"
      },
      "execution_count": 30,
      "outputs": []
    },
    {
      "cell_type": "code",
      "source": [
        "class ViT(nn.Sequential):\n",
        "    def __init__(self,     \n",
        "                in_channels: int = 1,\n",
        "                patch_size: int = 16,\n",
        "                emb_size: int = 768,\n",
        "                img_size: int = 256,\n",
        "                depth: int = 12,\n",
        "                n_classes: int = 1000,\n",
        "                **kwargs):\n",
        "        super().__init__(\n",
        "            PatchEmbedding(in_channels, patch_size, emb_size, img_size),\n",
        "            TransformerEncoder(depth, emb_size=emb_size, **kwargs),\n",
        "            ClassificationHead(emb_size, n_classes)\n",
        "        )"
      ],
      "metadata": {
        "id": "-b93_zvolZ7d"
      },
      "execution_count": 31,
      "outputs": []
    },
    {
      "cell_type": "code",
      "source": [
        "summary(ViT(), (1, 257, 257), device='cpu')\n"
      ],
      "metadata": {
        "colab": {
          "base_uri": "https://localhost:8080/"
        },
        "id": "apX2Slvlleam",
        "outputId": "1c9e2d44-1726-4520-c8ad-d8d69e5088a3"
      },
      "execution_count": 32,
      "outputs": [
        {
          "output_type": "stream",
          "name": "stdout",
          "text": [
            "----------------------------------------------------------------\n",
            "        Layer (type)               Output Shape         Param #\n",
            "================================================================\n",
            "            Conv2d-1          [-1, 768, 16, 16]         197,376\n",
            "         Rearrange-2             [-1, 256, 768]               0\n",
            "    PatchEmbedding-3             [-1, 257, 768]               0\n",
            "         LayerNorm-4             [-1, 257, 768]           1,536\n",
            "            Linear-5            [-1, 257, 2304]       1,771,776\n",
            "           Dropout-6          [-1, 8, 257, 257]               0\n",
            "            Linear-7             [-1, 257, 768]         590,592\n",
            "MultiHeadAttention-8             [-1, 257, 768]               0\n",
            "           Dropout-9             [-1, 257, 768]               0\n",
            "      ResidualAdd-10             [-1, 257, 768]               0\n",
            "        LayerNorm-11             [-1, 257, 768]           1,536\n",
            "           Linear-12            [-1, 257, 3072]       2,362,368\n",
            "             GELU-13            [-1, 257, 3072]               0\n",
            "          Dropout-14            [-1, 257, 3072]               0\n",
            "           Linear-15             [-1, 257, 768]       2,360,064\n",
            "          Dropout-16             [-1, 257, 768]               0\n",
            "      ResidualAdd-17             [-1, 257, 768]               0\n",
            "        LayerNorm-18             [-1, 257, 768]           1,536\n",
            "           Linear-19            [-1, 257, 2304]       1,771,776\n",
            "          Dropout-20          [-1, 8, 257, 257]               0\n",
            "           Linear-21             [-1, 257, 768]         590,592\n",
            "MultiHeadAttention-22             [-1, 257, 768]               0\n",
            "          Dropout-23             [-1, 257, 768]               0\n",
            "      ResidualAdd-24             [-1, 257, 768]               0\n",
            "        LayerNorm-25             [-1, 257, 768]           1,536\n",
            "           Linear-26            [-1, 257, 3072]       2,362,368\n",
            "             GELU-27            [-1, 257, 3072]               0\n",
            "          Dropout-28            [-1, 257, 3072]               0\n",
            "           Linear-29             [-1, 257, 768]       2,360,064\n",
            "          Dropout-30             [-1, 257, 768]               0\n",
            "      ResidualAdd-31             [-1, 257, 768]               0\n",
            "        LayerNorm-32             [-1, 257, 768]           1,536\n",
            "           Linear-33            [-1, 257, 2304]       1,771,776\n",
            "          Dropout-34          [-1, 8, 257, 257]               0\n",
            "           Linear-35             [-1, 257, 768]         590,592\n",
            "MultiHeadAttention-36             [-1, 257, 768]               0\n",
            "          Dropout-37             [-1, 257, 768]               0\n",
            "      ResidualAdd-38             [-1, 257, 768]               0\n",
            "        LayerNorm-39             [-1, 257, 768]           1,536\n",
            "           Linear-40            [-1, 257, 3072]       2,362,368\n",
            "             GELU-41            [-1, 257, 3072]               0\n",
            "          Dropout-42            [-1, 257, 3072]               0\n",
            "           Linear-43             [-1, 257, 768]       2,360,064\n",
            "          Dropout-44             [-1, 257, 768]               0\n",
            "      ResidualAdd-45             [-1, 257, 768]               0\n",
            "        LayerNorm-46             [-1, 257, 768]           1,536\n",
            "           Linear-47            [-1, 257, 2304]       1,771,776\n",
            "          Dropout-48          [-1, 8, 257, 257]               0\n",
            "           Linear-49             [-1, 257, 768]         590,592\n",
            "MultiHeadAttention-50             [-1, 257, 768]               0\n",
            "          Dropout-51             [-1, 257, 768]               0\n",
            "      ResidualAdd-52             [-1, 257, 768]               0\n",
            "        LayerNorm-53             [-1, 257, 768]           1,536\n",
            "           Linear-54            [-1, 257, 3072]       2,362,368\n",
            "             GELU-55            [-1, 257, 3072]               0\n",
            "          Dropout-56            [-1, 257, 3072]               0\n",
            "           Linear-57             [-1, 257, 768]       2,360,064\n",
            "          Dropout-58             [-1, 257, 768]               0\n",
            "      ResidualAdd-59             [-1, 257, 768]               0\n",
            "        LayerNorm-60             [-1, 257, 768]           1,536\n",
            "           Linear-61            [-1, 257, 2304]       1,771,776\n",
            "          Dropout-62          [-1, 8, 257, 257]               0\n",
            "           Linear-63             [-1, 257, 768]         590,592\n",
            "MultiHeadAttention-64             [-1, 257, 768]               0\n",
            "          Dropout-65             [-1, 257, 768]               0\n",
            "      ResidualAdd-66             [-1, 257, 768]               0\n",
            "        LayerNorm-67             [-1, 257, 768]           1,536\n",
            "           Linear-68            [-1, 257, 3072]       2,362,368\n",
            "             GELU-69            [-1, 257, 3072]               0\n",
            "          Dropout-70            [-1, 257, 3072]               0\n",
            "           Linear-71             [-1, 257, 768]       2,360,064\n",
            "          Dropout-72             [-1, 257, 768]               0\n",
            "      ResidualAdd-73             [-1, 257, 768]               0\n",
            "        LayerNorm-74             [-1, 257, 768]           1,536\n",
            "           Linear-75            [-1, 257, 2304]       1,771,776\n",
            "          Dropout-76          [-1, 8, 257, 257]               0\n",
            "           Linear-77             [-1, 257, 768]         590,592\n",
            "MultiHeadAttention-78             [-1, 257, 768]               0\n",
            "          Dropout-79             [-1, 257, 768]               0\n",
            "      ResidualAdd-80             [-1, 257, 768]               0\n",
            "        LayerNorm-81             [-1, 257, 768]           1,536\n",
            "           Linear-82            [-1, 257, 3072]       2,362,368\n",
            "             GELU-83            [-1, 257, 3072]               0\n",
            "          Dropout-84            [-1, 257, 3072]               0\n",
            "           Linear-85             [-1, 257, 768]       2,360,064\n",
            "          Dropout-86             [-1, 257, 768]               0\n",
            "      ResidualAdd-87             [-1, 257, 768]               0\n",
            "        LayerNorm-88             [-1, 257, 768]           1,536\n",
            "           Linear-89            [-1, 257, 2304]       1,771,776\n",
            "          Dropout-90          [-1, 8, 257, 257]               0\n",
            "           Linear-91             [-1, 257, 768]         590,592\n",
            "MultiHeadAttention-92             [-1, 257, 768]               0\n",
            "          Dropout-93             [-1, 257, 768]               0\n",
            "      ResidualAdd-94             [-1, 257, 768]               0\n",
            "        LayerNorm-95             [-1, 257, 768]           1,536\n",
            "           Linear-96            [-1, 257, 3072]       2,362,368\n",
            "             GELU-97            [-1, 257, 3072]               0\n",
            "          Dropout-98            [-1, 257, 3072]               0\n",
            "           Linear-99             [-1, 257, 768]       2,360,064\n",
            "         Dropout-100             [-1, 257, 768]               0\n",
            "     ResidualAdd-101             [-1, 257, 768]               0\n",
            "       LayerNorm-102             [-1, 257, 768]           1,536\n",
            "          Linear-103            [-1, 257, 2304]       1,771,776\n",
            "         Dropout-104          [-1, 8, 257, 257]               0\n",
            "          Linear-105             [-1, 257, 768]         590,592\n",
            "MultiHeadAttention-106             [-1, 257, 768]               0\n",
            "         Dropout-107             [-1, 257, 768]               0\n",
            "     ResidualAdd-108             [-1, 257, 768]               0\n",
            "       LayerNorm-109             [-1, 257, 768]           1,536\n",
            "          Linear-110            [-1, 257, 3072]       2,362,368\n",
            "            GELU-111            [-1, 257, 3072]               0\n",
            "         Dropout-112            [-1, 257, 3072]               0\n",
            "          Linear-113             [-1, 257, 768]       2,360,064\n",
            "         Dropout-114             [-1, 257, 768]               0\n",
            "     ResidualAdd-115             [-1, 257, 768]               0\n",
            "       LayerNorm-116             [-1, 257, 768]           1,536\n",
            "          Linear-117            [-1, 257, 2304]       1,771,776\n",
            "         Dropout-118          [-1, 8, 257, 257]               0\n",
            "          Linear-119             [-1, 257, 768]         590,592\n",
            "MultiHeadAttention-120             [-1, 257, 768]               0\n",
            "         Dropout-121             [-1, 257, 768]               0\n",
            "     ResidualAdd-122             [-1, 257, 768]               0\n",
            "       LayerNorm-123             [-1, 257, 768]           1,536\n",
            "          Linear-124            [-1, 257, 3072]       2,362,368\n",
            "            GELU-125            [-1, 257, 3072]               0\n",
            "         Dropout-126            [-1, 257, 3072]               0\n",
            "          Linear-127             [-1, 257, 768]       2,360,064\n",
            "         Dropout-128             [-1, 257, 768]               0\n",
            "     ResidualAdd-129             [-1, 257, 768]               0\n",
            "       LayerNorm-130             [-1, 257, 768]           1,536\n",
            "          Linear-131            [-1, 257, 2304]       1,771,776\n",
            "         Dropout-132          [-1, 8, 257, 257]               0\n",
            "          Linear-133             [-1, 257, 768]         590,592\n",
            "MultiHeadAttention-134             [-1, 257, 768]               0\n",
            "         Dropout-135             [-1, 257, 768]               0\n",
            "     ResidualAdd-136             [-1, 257, 768]               0\n",
            "       LayerNorm-137             [-1, 257, 768]           1,536\n",
            "          Linear-138            [-1, 257, 3072]       2,362,368\n",
            "            GELU-139            [-1, 257, 3072]               0\n",
            "         Dropout-140            [-1, 257, 3072]               0\n",
            "          Linear-141             [-1, 257, 768]       2,360,064\n",
            "         Dropout-142             [-1, 257, 768]               0\n",
            "     ResidualAdd-143             [-1, 257, 768]               0\n",
            "       LayerNorm-144             [-1, 257, 768]           1,536\n",
            "          Linear-145            [-1, 257, 2304]       1,771,776\n",
            "         Dropout-146          [-1, 8, 257, 257]               0\n",
            "          Linear-147             [-1, 257, 768]         590,592\n",
            "MultiHeadAttention-148             [-1, 257, 768]               0\n",
            "         Dropout-149             [-1, 257, 768]               0\n",
            "     ResidualAdd-150             [-1, 257, 768]               0\n",
            "       LayerNorm-151             [-1, 257, 768]           1,536\n",
            "          Linear-152            [-1, 257, 3072]       2,362,368\n",
            "            GELU-153            [-1, 257, 3072]               0\n",
            "         Dropout-154            [-1, 257, 3072]               0\n",
            "          Linear-155             [-1, 257, 768]       2,360,064\n",
            "         Dropout-156             [-1, 257, 768]               0\n",
            "     ResidualAdd-157             [-1, 257, 768]               0\n",
            "       LayerNorm-158             [-1, 257, 768]           1,536\n",
            "          Linear-159            [-1, 257, 2304]       1,771,776\n",
            "         Dropout-160          [-1, 8, 257, 257]               0\n",
            "          Linear-161             [-1, 257, 768]         590,592\n",
            "MultiHeadAttention-162             [-1, 257, 768]               0\n",
            "         Dropout-163             [-1, 257, 768]               0\n",
            "     ResidualAdd-164             [-1, 257, 768]               0\n",
            "       LayerNorm-165             [-1, 257, 768]           1,536\n",
            "          Linear-166            [-1, 257, 3072]       2,362,368\n",
            "            GELU-167            [-1, 257, 3072]               0\n",
            "         Dropout-168            [-1, 257, 3072]               0\n",
            "          Linear-169             [-1, 257, 768]       2,360,064\n",
            "         Dropout-170             [-1, 257, 768]               0\n",
            "     ResidualAdd-171             [-1, 257, 768]               0\n",
            "          Reduce-172                  [-1, 768]               0\n",
            "       LayerNorm-173                  [-1, 768]           1,536\n",
            "          Linear-174                 [-1, 1000]         769,000\n",
            "================================================================\n",
            "Total params: 86,022,376\n",
            "Trainable params: 86,022,376\n",
            "Non-trainable params: 0\n",
            "----------------------------------------------------------------\n",
            "Input size (MB): 0.25\n",
            "Forward/backward pass size (MB): 486.59\n",
            "Params size (MB): 328.15\n",
            "Estimated Total Size (MB): 814.99\n",
            "----------------------------------------------------------------\n"
          ]
        }
      ]
    },
    {
      "cell_type": "code",
      "source": [
        "#https://towardsdatascience.com/implementing-visualttransformer-in-pytorch-184f9f16f632"
      ],
      "metadata": {
        "id": "r-pME0ldl4zW"
      },
      "execution_count": null,
      "outputs": []
    },
    {
      "cell_type": "code",
      "source": [
        "def create_vit_classifier():\n",
        "    inputs = layers.Input(shape=input_shape)\n",
        "    augmented = data_augmentation(inputs)\n",
        "    patches = Patches(patch_size)(augmented)\n",
        "    encoded_patches = PatchEncoder(num_patches, projection_dim)(patches)\n",
        " \n",
        "    for _ in range(transformer_layers):\n",
        "        x1 = layers.LayerNormalization(epsilon=1e-6)(encoded_patches)\n",
        "        attention_output = layers.MultiHeadAttention(\n",
        "            num_heads=num_heads, key_dim=projection_dim, dropout=0.1\n",
        "        )(x1, x1)\n",
        "        x2 = layers.Add()([attention_output, encoded_patches])\n",
        "        x3 = layers.LayerNormalization(epsilon=1e-6)(x2)\n",
        "        x3 = mlp(x3, hidden_units=transformer_units, dropout_rate=0.1)\n",
        "        encoded_patches = layers.Add()([x3, x2])\n",
        " \n",
        "    representation = layers.LayerNormalization(epsilon=1e-6)(encoded_patches)\n",
        "    representation = layers.Flatten()(representation)\n",
        "    representation = layers.Dropout(0.5)(representation)\n",
        "    features = mlp(representation, hidden_units=mlp_head_units, dropout_rate=0.5)\n",
        "    logits = layers.Dense(num_classes)(features)\n",
        "    model = keras.Model(inputs=inputs, outputs=logits)\n",
        "    return model"
      ],
      "metadata": {
        "id": "E4WwnGnInJCc"
      },
      "execution_count": null,
      "outputs": []
    },
    {
      "cell_type": "code",
      "source": [
        "optimizer = tfa.optimizers.AdamW(learning_rate=learning_rate, weight_decay=weight_decay)\n",
        " \n",
        "model.compile(\n",
        "    optimizer=optimizer,\n",
        "    loss=keras.losses.SparseCategoricalCrossentropy(from_logits=True),\n",
        "    metrics=[\n",
        "       keras.metrics.SparseCategoricalAccuracy(name=\"accuracy\"),\n",
        "       keras.metrics.SparseTopKCategoricalAccuracy(5, name=\"top-5-accuracy\"), ],)"
      ],
      "metadata": {
        "id": "9qMnazoOq6gQ",
        "outputId": "859883c2-c6c9-49e3-f5d3-5238aeb362ee",
        "colab": {
          "base_uri": "https://localhost:8080/",
          "height": 235
        }
      },
      "execution_count": null,
      "outputs": [
        {
          "output_type": "error",
          "ename": "NameError",
          "evalue": "ignored",
          "traceback": [
            "\u001b[0;31m---------------------------------------------------------------------------\u001b[0m",
            "\u001b[0;31mNameError\u001b[0m                                 Traceback (most recent call last)",
            "\u001b[0;32m<ipython-input-79-7c53d742edb3>\u001b[0m in \u001b[0;36m<module>\u001b[0;34m\u001b[0m\n\u001b[0;32m----> 1\u001b[0;31m \u001b[0moptimizer\u001b[0m \u001b[0;34m=\u001b[0m \u001b[0mtfa\u001b[0m\u001b[0;34m.\u001b[0m\u001b[0moptimizers\u001b[0m\u001b[0;34m.\u001b[0m\u001b[0mAdamW\u001b[0m\u001b[0;34m(\u001b[0m\u001b[0mlearning_rate\u001b[0m\u001b[0;34m=\u001b[0m\u001b[0mlearning_rate\u001b[0m\u001b[0;34m,\u001b[0m \u001b[0mweight_decay\u001b[0m\u001b[0;34m=\u001b[0m\u001b[0mweight_decay\u001b[0m\u001b[0;34m)\u001b[0m\u001b[0;34m\u001b[0m\u001b[0;34m\u001b[0m\u001b[0m\n\u001b[0m\u001b[1;32m      2\u001b[0m \u001b[0;34m\u001b[0m\u001b[0m\n\u001b[1;32m      3\u001b[0m model.compile(\n\u001b[1;32m      4\u001b[0m     \u001b[0moptimizer\u001b[0m\u001b[0;34m=\u001b[0m\u001b[0moptimizer\u001b[0m\u001b[0;34m,\u001b[0m\u001b[0;34m\u001b[0m\u001b[0;34m\u001b[0m\u001b[0m\n\u001b[1;32m      5\u001b[0m     \u001b[0mloss\u001b[0m\u001b[0;34m=\u001b[0m\u001b[0mkeras\u001b[0m\u001b[0;34m.\u001b[0m\u001b[0mlosses\u001b[0m\u001b[0;34m.\u001b[0m\u001b[0mSparseCategoricalCrossentropy\u001b[0m\u001b[0;34m(\u001b[0m\u001b[0mfrom_logits\u001b[0m\u001b[0;34m=\u001b[0m\u001b[0;32mTrue\u001b[0m\u001b[0;34m)\u001b[0m\u001b[0;34m,\u001b[0m\u001b[0;34m\u001b[0m\u001b[0;34m\u001b[0m\u001b[0m\n",
            "\u001b[0;31mNameError\u001b[0m: name 'tfa' is not defined"
          ]
        }
      ]
    },
    {
      "cell_type": "code",
      "source": [
        "#https://analyticsindiamag.com/hands-on-guide-to-using-vision-transformer-for-image-classification/"
      ],
      "metadata": {
        "id": "ooIaV1Sr0202"
      },
      "execution_count": null,
      "outputs": []
    }
  ]
}